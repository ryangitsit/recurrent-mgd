{
 "cells": [
  {
   "cell_type": "markdown",
   "id": "15141d25",
   "metadata": {},
   "source": [
    "# Introduction to Multiplexed Gradient Descent (MGD)\n",
    "In an era of emerging specialized neuromorphic hardware, the demand for backprop-free gradient descent is more than ever. MGD is a perturbative method that offers a simple and efficient path to training arbitrary networks with respect to an objective function, so long as a gradient exists.  This notebook is a minimal example toward a practical understanding of MGD. A few things to note:\n",
    " - We utilize the JAX python package for flexible and efficient neural network operations\n",
    " - Where ever the @jax.jit is used, the function that follows will be subject to \"just in time\" compilation\n",
    " - JAX requires explicit seed (random key) definitions.  Where ever a key is defined, simply think of that as a seed.\n",
    " - This can simply be thought of as preparing (compiling) the function to be used efficiently\n",
    " - We otherwise avoid obfuscating our implementation with calls to pacakages like jax.flax are even more efficent, but opaque"
   ]
  },
  {
   "cell_type": "code",
   "execution_count": null,
   "id": "acc95c30",
   "metadata": {},
   "outputs": [],
   "source": [
    "import jax\n",
    "import jax.numpy as jnp\n",
    "import numpy as np\n",
    "import matplotlib.pyplot as plt\n",
    "import copy\n",
    "\n",
    "import src.utils.helper_functions as hf\n",
    "import src.data_loader as dat"
   ]
  },
  {
   "cell_type": "markdown",
   "id": "f409e675",
   "metadata": {},
   "source": [
    "## To Start: Initialize (any) network\n",
    " - MGD is model-free and therefore indifferent to network topology, activation function, and node variation. \n",
    " - We here implement a simple multi-layer feedforward neural network (an MLP).\n",
    " - In the recurrent tutorial, we examine more varied topologies."
   ]
  },
  {
   "cell_type": "code",
   "execution_count": 2,
   "id": "5869b4e6",
   "metadata": {},
   "outputs": [],
   "source": [
    "def init_MLP(layer_sizes, key, scale=1e-2):\n",
    "    \"\"\"\n",
    "    Initializes weights and biases for a fully connected MLP.\n",
    "\n",
    "    Args:\n",
    "        layer_sizes (List[int]): List of integers specifying the number of units in each layer.\n",
    "                                 For example, [784, 256, 10] creates two layers: 784→256 and 256→10.\n",
    "        key (jax.random.PRNGKey): PRNG key for generating random weights.\n",
    "        scale (float): Scaling factor for the initial weights. Defaults to 1e-2.\n",
    "\n",
    "    Returns:\n",
    "        List[Dict[str, jnp.ndarray]]: A list of parameter dictionaries, one for each layer,\n",
    "        where each dictionary has:\n",
    "            - 'w': weight matrix of shape (input_dim, output_dim)\n",
    "            - 'b': bias vector of shape (output_dim,)\n",
    "    \"\"\"\n",
    "    keys = jax.random.split(key, len(layer_sizes) - 1)\n",
    "    mlp = []\n",
    "    for in_dim, out_dim, k in zip(layer_sizes[:-1], layer_sizes[1:], keys):\n",
    "        w_key, b_key = jax.random.split(k)\n",
    "        weights = jnp.sqrt(2/in_dim) * jax.random.normal(w_key, (in_dim, out_dim))\n",
    "        biases = jnp.zeros((out_dim,))\n",
    "        mlp.append({'weights': weights, 'biases': biases})\n",
    "    return mlp\n",
    "\n",
    "key = jax.random.PRNGKey(1, impl=None)\n",
    "neural_net = init_MLP([784,128,10], key, scale=.1)"
   ]
  },
  {
   "cell_type": "markdown",
   "id": "b5228d45",
   "metadata": {},
   "source": [
    "## 1. Make a (totally normal) foward pass\n",
    "- The forward pass for MGD is exactly like any old MLP forward pass"
   ]
  },
  {
   "cell_type": "code",
   "execution_count": 3,
   "id": "3f9423b5",
   "metadata": {},
   "outputs": [],
   "source": [
    "@jax.jit\n",
    "def forward_MLP(X, readout):\n",
    "    \"\"\"\n",
    "    Performs a forward pass through a multi-layer perceptron (MLP) readout with ReLU activations\n",
    "    and a final linear output layer. Assumes layers are stored in a list of parameter dictionaries.\n",
    "\n",
    "    Args:\n",
    "        X (jnp.ndarray): Input array of shape (batch_size, input_dim).\n",
    "        readout (List[Dict[str, jnp.ndarray]]): List of layer parameter dictionaries.\n",
    "            Each dictionary must contain:\n",
    "                - 'weights': weight matrix of shape (in_dim, out_dim)\n",
    "                - 'biases': bias vector of shape (out_dim,)\n",
    "            The list should contain one or more hidden layers followed by the final output layer.\n",
    "\n",
    "    Returns:\n",
    "        jnp.ndarray: Output of the MLP after the final linear transformation,\n",
    "                     shape (batch_size, output_dim).\n",
    "    \"\"\"\n",
    "    *hidden, last = readout\n",
    "    for layer in hidden:\n",
    "        X = jax.nn.relu(X @ layer['weights'] + layer['biases'])\n",
    "    return X @ last['weights'] + last['biases'] "
   ]
  },
  {
   "cell_type": "markdown",
   "id": "d745e766",
   "metadata": {},
   "source": [
    "We'll need som data to feed into the network. Let's load MNIST."
   ]
  },
  {
   "cell_type": "code",
   "execution_count": null,
   "id": "4fb33d25",
   "metadata": {},
   "outputs": [
    {
     "name": "stderr",
     "output_type": "stream",
     "text": [
      "WARNING:tensorflow:From c:\\Users\\rmo2\\git_repos\\MGD_ssm_space\\.mgd-wrk-env-12\\lib\\site-packages\\tensorflow_datasets\\core\\dataset_builder.py:1079: The name tf.data.get_output_shapes is deprecated. Please use tf.compat.v1.data.get_output_shapes instead.\n",
      "\n"
     ]
    }
   ],
   "source": [
    "import warnings\n",
    "warnings.filterwarnings(\"ignore\", category=DeprecationWarning)\n",
    "import tensorflow_datasets as tfds\n",
    "data_dir = '/tmp/tfds'\n",
    "mnist_data, info = tfds.load(\n",
    "    name=\"mnist\", \n",
    "    batch_size=1, data_dir=data_dir, with_info=True\n",
    "    )\n",
    "mnist_data = tfds.as_numpy(mnist_data)\n",
    "train_data, test_data = mnist_data['train'], mnist_data['test']\n",
    "X_train = jnp.array([x.flatten()/255 for x in train_data['image']])\n",
    "y_train = jax.nn.one_hot(train_data['label'],10)\n",
    "X_test  = jnp.array([x.flatten()/255 for x in test_data['image']])\n",
    "y_test  = jax.nn.one_hot(test_data['label'],10)"
   ]
  },
  {
   "cell_type": "markdown",
   "id": "432175e2",
   "metadata": {},
   "source": [
    "And feed it to our network..."
   ]
  },
  {
   "cell_type": "code",
   "execution_count": 5,
   "id": "8350bd25",
   "metadata": {},
   "outputs": [
    {
     "name": "stdout",
     "output_type": "stream",
     "text": [
      "Activation at final each neuron in the final layer of network: \n",
      "[-1.2312608  -0.06178296 -0.01688387 -0.26757982 -0.4327068   0.6410849\n",
      "  0.23791422 -0.06920224  0.09453575  0.5195744 ]\n"
     ]
    }
   ],
   "source": [
    "logits = forward_MLP(X_train[0], neural_net)\n",
    "print(f\"Activation at final each neuron in the final layer of network: \\n{logits}\")"
   ]
  },
  {
   "cell_type": "markdown",
   "id": "b0238126",
   "metadata": {},
   "source": [
    "Finally, like with any forward pass, we determine the loss with respect to our objective function.  Here, we use cross-entropy."
   ]
  },
  {
   "cell_type": "code",
   "execution_count": 6,
   "id": "f159d730",
   "metadata": {},
   "outputs": [
    {
     "name": "stdout",
     "output_type": "stream",
     "text": [
      "Forward pass cost: \n",
      "2.7850327491760254\n"
     ]
    }
   ],
   "source": [
    "import optax\n",
    "@jax.jit\n",
    "def loss_CE(logits, labels):\n",
    "    # log_softmax_probs = jax.nn.log_softmax(logits, axis=-1)\n",
    "    # per_example_loss = -jnp.sum(labels * log_softmax_probs, axis=-1) \n",
    "    # return jnp.mean(per_example_loss)\n",
    "    return optax.softmax_cross_entropy(logits=logits, labels=labels).mean()\n",
    "\n",
    "cost0 = loss_CE(logits, y_train[0])\n",
    "print(f\"Forward pass cost: \\n{cost0}\")"
   ]
  },
  {
   "cell_type": "markdown",
   "id": "c5979beb",
   "metadata": {},
   "source": [
    "## 2. Perturb all learnable parameters simultaneously\n",
    " - Select some (small) value $\\epsilon$\n",
    " - Random perturb all learnable parameters by $\\pm \\epsilon$\n",
    " - Store those perturbation values for every parameter\n",
    " - Apply those perturbations to a copy of the original parametes\n",
    "   - In hardware, there would be no copying. The pert value would just be stored locally."
   ]
  },
  {
   "cell_type": "code",
   "execution_count": 7,
   "id": "3a6619e2",
   "metadata": {},
   "outputs": [],
   "source": [
    "@jax.jit\n",
    "def sample_perturbations(params,epsilon,i):\n",
    "    key = jax.random.PRNGKey(i, impl=None)\n",
    "    return jax.tree.map(\n",
    "        lambda p: jax.random.choice(key, jnp.array([-1,1])*epsilon, shape=(p.shape)), params\n",
    "    )\n",
    "\n",
    "@jax.jit\n",
    "def apply_perturbations(theta,perturbations):\n",
    "    return jax.tree.map(lambda param, pert: param+pert, theta, perturbations)\n",
    "\n",
    "epsilon = 0.000001\n",
    "\n",
    "# create a set of epsilon-sized perturbations for given the shape of parameters\n",
    "perturbations = sample_perturbations(neural_net,epsilon,0)\n",
    "\n",
    "# # create a copy of the original network (this is just for easy coding, not fundamental to MGD)\n",
    "# neural_net_copy = copy.deepcopy(neural_net)\n",
    "\n",
    "# apply perturbations to copy\n",
    "neural_net_perturbed = apply_perturbations(neural_net,perturbations)"
   ]
  },
  {
   "cell_type": "markdown",
   "id": "74d8f41d",
   "metadata": {},
   "source": [
    "## 3. Perform forward pass (again), but now with perturbed parameters\n",
    " - You'll notice these results are not exactly equivalent to the originals."
   ]
  },
  {
   "cell_type": "code",
   "execution_count": 8,
   "id": "dba9ec0a",
   "metadata": {},
   "outputs": [
    {
     "name": "stdout",
     "output_type": "stream",
     "text": [
      "Activation at final each neuron in the final layer of perturbed network: \n",
      "[-1.2312444  -0.06178118 -0.01688914 -0.2675837  -0.432705    0.6411003\n",
      "  0.23791862 -0.06921027  0.09453714  0.5195775 ]\n",
      "Perturbed forward pass cost: \n",
      "2.7850341796875\n"
     ]
    }
   ],
   "source": [
    "logits_perturbed = forward_MLP(X_train[0], neural_net_perturbed)\n",
    "cost_perturbed   = loss_CE(logits_perturbed, y_train[0])\n",
    "\n",
    "print(f\"Activation at final each neuron in the final layer of perturbed network: \\n{logits_perturbed}\")\n",
    "print(f\"Perturbed forward pass cost: \\n{cost_perturbed}\")"
   ]
  },
  {
   "cell_type": "markdown",
   "id": "d0b6278d",
   "metadata": {},
   "source": [
    "## 4. Collect the gradient\n",
    " - Collect the gradient at every parameter\n",
    " - Defined simple as the difference in orginal and perturbed cost, weighted by learning rate\n",
    " - A good default learning rate is $\\eta = 1/\\epsilon^2$"
   ]
  },
  {
   "cell_type": "code",
   "execution_count": 9,
   "id": "79de31c8",
   "metadata": {},
   "outputs": [],
   "source": [
    "@jax.jit\n",
    "def init_grad(params):\n",
    "    return jax.tree.map(lambda p: jnp.zeros(shape=(p.shape)), params)\n",
    "\n",
    "@jax.jit\n",
    "def collect_grad(perts,delta_c,G):\n",
    "    return jax.tree.map(lambda G, p: G + p*delta_c, G, perts)\n",
    "\n",
    "delta_cost = cost_perturbed - cost0\n",
    "gradient = init_grad(neural_net)\n",
    "gradient = collect_grad(perturbations, delta_cost, gradient)"
   ]
  },
  {
   "cell_type": "markdown",
   "id": "1127217b",
   "metadata": {},
   "source": [
    "## 5. Update parameters\n",
    " - Simply apply this gradient to every parameter component-wise\n",
    " - Weight update by $\\tau_\\theta$ (the number of iterations for which the gradient was collected)\n",
    "   - Analogous to batch size\n",
    "   - In this case $\\tau_\\theta=1$"
   ]
  },
  {
   "cell_type": "code",
   "execution_count": 10,
   "id": "c4970df7",
   "metadata": {},
   "outputs": [],
   "source": [
    "@jax.jit\n",
    "def MGD_update(params,G,eta,tau_theta):\n",
    "    return jax.tree.map(\n",
    "        lambda p, G: p - G*eta/tau_theta, params, G\n",
    "    )\n",
    "\n",
    "eta = 1/epsilon**2\n",
    "tau_theta = 1\n",
    "neural_net = MGD_update(neural_net,gradient,eta,tau_theta)"
   ]
  },
  {
   "cell_type": "markdown",
   "id": "cff470c1",
   "metadata": {},
   "source": [
    "## That's it! Now just repeat\n",
    " - Everything else about learning is analogous to the backprop procedure\n",
    " - However, importantly, a sophisticated gradient calculation, weight transport, and network model are *not* needed\n",
    " - Instead, two forward passes, local short-term storage of perturbations, and one global broadcase are used\n",
    " - That's it!"
   ]
  },
  {
   "cell_type": "code",
   "execution_count": 11,
   "id": "758db4eb",
   "metadata": {},
   "outputs": [],
   "source": [
    "# # neural_net_copy \n",
    "#     if i>1: hf.print_clean_tree(hf.tree_diff(perturbations,last_perts))\n",
    "#     last_perts = copy.deepcopy(perturbations)"
   ]
  },
  {
   "cell_type": "code",
   "execution_count": 47,
   "id": "87c64eab",
   "metadata": {},
   "outputs": [
    {
     "data": {
      "image/png": "[encoded data removed]",
      "text/plain": [
       "<Figure size 800x300 with 1 Axes>"
      ]
     },
     "metadata": {},
     "output_type": "display_data"
    }
   ],
   "source": [
    "epochs = 10\n",
    "costs      = []\n",
    "accs       = []\n",
    "\n",
    "epsilon = 0.000001\n",
    "net_dims = [784,128,10]\n",
    "\n",
    "batch_size=tau_theta=128\n",
    "\n",
    "K = np.prod(net_dims) + np.sum(net_dims[1:])\n",
    "\n",
    "eta0 =  10000 / (epsilon**2 * np.sqrt(K) * np.sqrt(1+(K-1)/tau_theta))\n",
    "decay = .1\n",
    "key = jax.random.PRNGKey(1, impl=None)\n",
    "neural_net = init_MLP(net_dims, key, scale=1)\n",
    "params_before = copy.deepcopy(neural_net)\n",
    "\n",
    "for epoch in range(epochs):\n",
    "    epoch_costs = []\n",
    "    eta = eta0/(1+decay*epoch)\n",
    "    for i in range(0, len(X_train), batch_size):\n",
    "        X_batch = X_train[i:i+batch_size]\n",
    "        y_batch = y_train[i:i+batch_size]\n",
    "        # Step 1: Forward pass\n",
    "        logits = forward_MLP(X_batch, neural_net)\n",
    "        cost0  = loss_CE(logits, y_batch)\n",
    "        epoch_costs.append(cost0)\n",
    "\n",
    "        # Step 2: Perturb\n",
    "        perturbations        = sample_perturbations(neural_net,epsilon,i)\n",
    "        neural_net_perturbed = apply_perturbations(neural_net,perturbations)\n",
    "\n",
    "        # Step 3: Perturbed forward pass\n",
    "        logits_perturbed = forward_MLP(X_batch, neural_net_perturbed)\n",
    "        cost_perturbed   = loss_CE(logits_perturbed, y_batch)\n",
    "\n",
    "        # Step 4: Collect gradient\n",
    "        delta_cost = (cost_perturbed - cost0)*1\n",
    "        gradient   = init_grad(neural_net)\n",
    "        gradient   = collect_grad(perturbations, delta_cost, gradient)\n",
    "        \n",
    "        # Step 5: Make update\n",
    "        before_update = copy.deepcopy(neural_net)\n",
    "        neural_net = MGD_update(neural_net,gradient,eta,tau_theta)\n",
    "    costs.append(np.mean(epoch_costs))\n",
    "    accs.append(\n",
    "        jnp.mean(\n",
    "            jnp.argmax(forward_MLP(X_test, neural_net),axis=-1)==\n",
    "            jnp.argmax(y_test,axis=-1)\n",
    "            ))\n",
    "\n",
    "plt.style.use('seaborn-v0_8-muted')\n",
    "plt.figure(figsize=(8,3))\n",
    "plt.plot(accs)\n",
    "plt.plot(costs/np.max(costs))\n",
    "plt.xlabel(\"Epochs\")\n",
    "plt.ylabel(\"Cost\")\n",
    "plt.title(\"Learning One MNIST Digit\")\n",
    "plt.show()"
   ]
  },
  {
   "cell_type": "code",
   "execution_count": null,
   "id": "846f3750",
   "metadata": {},
   "outputs": [],
   "source": []
  }
 ],
 "metadata": {
  "kernelspec": {
   "display_name": ".mgd-wrk-env-12",
   "language": "python",
   "name": "python3"
  },
  "language_info": {
   "codemirror_mode": {
    "name": "ipython",
    "version": 3
   },
   "file_extension": ".py",
   "mimetype": "text/x-python",
   "name": "python",
   "nbconvert_exporter": "python",
   "pygments_lexer": "ipython3",
   "version": "3.10.9"
  }
 },
 "nbformat": 4,
 "nbformat_minor": 5
}
