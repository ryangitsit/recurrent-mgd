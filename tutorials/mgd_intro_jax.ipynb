{
 "cells": [
  {
   "cell_type": "markdown",
   "id": "52f10944",
   "metadata": {},
   "source": [
    "[![Open In Colab](https://colab.research.google.com/assets/colab-badge.svg)](https://colab.research.google.com/github/ryangitsit/recurrent-mgd/blob/main/tutorials/mgd_intro_jax.ipynb)\n"
   ]
  },
  {
   "cell_type": "code",
   "execution_count": null,
   "id": "cf473d24",
   "metadata": {},
   "outputs": [],
   "source": [
    "!git clone https://github.com/username/repo.git\n",
    "%cd repo\n",
    "!pip install -e ."
   ]
  },
  {
   "cell_type": "markdown",
   "id": "15141d25",
   "metadata": {},
   "source": [
    "# Introduction to Multiplexed Gradient Descent (MGD)\n",
    "In an era of emerging specialized neuromorphic hardware, the demand for backprop-free gradient descent is more than ever. MGD is a perturbative method that offers a simple and efficient path to training arbitrary networks with respect to an objective function, so long as a gradient exists.  This notebook is a minimal example toward a practical understanding of MGD. \n",
    "\n",
    "### Some notes on using JAX (easily)\n",
    " - We utilize the JAX python package for flexible and efficient neural network operations\n",
    " - Wherever the jax.tree.map function is used, some operation is simply being mapped over a dictionary of parameters.\n",
    " - Wherever the @jax.jit decorator is used, the function that follows will be subject to \"just in time\" compilation\n",
    " - This can simply be thought of as preparing (compiling) the function to be used efficiently\n",
    " - JAX requires explicit seed (random key) definitions.  Where ever a key is defined, simply think of that as a seed.\n",
    " - Save for the final training example, we avoid obfuscating our implementation with calls to pacakages like jax.flax, which are even more efficent, but opaque"
   ]
  },
  {
   "cell_type": "markdown",
   "id": "70cf592a",
   "metadata": {},
   "source": [
    "## Setup"
   ]
  },
  {
   "cell_type": "code",
   "execution_count": 1,
   "id": "acc95c30",
   "metadata": {},
   "outputs": [],
   "source": [
    "import jax\n",
    "import optax\n",
    "\n",
    "import jax.numpy as jnp\n",
    "import flax.linen as nn\n",
    "import numpy as np\n",
    "import matplotlib.pyplot as plt\n",
    "\n",
    "import src.utils.helper_functions as hf\n",
    "import src.data_loader as dat"
   ]
  },
  {
   "cell_type": "markdown",
   "id": "120f9108",
   "metadata": {},
   "source": [
    "#### CPU vs GPU\n",
    "- If your local machine has a GPU available, the following should print something along the lines of `[CudaDevice(id=0)]` and otherwise a CPU device.  If your GPU is not showing, try running `pip install jax[cuda12]` depending on your cuda version.  Note, a GPU is not necessary for this tutorial."
   ]
  },
  {
   "cell_type": "code",
   "execution_count": 2,
   "id": "cbbffb10",
   "metadata": {},
   "outputs": [
    {
     "name": "stdout",
     "output_type": "stream",
     "text": [
      "[CudaDevice(id=0)]\n"
     ]
    },
    {
     "name": "stderr",
     "output_type": "stream",
     "text": [
      "2025-09-12 17:55:06.420494: E external/xla/xla/stream_executor/cuda/cuda_dnn.cc:466] Loaded runtime CuDNN library: 9.1.0 but source was compiled with: 9.8.0.  CuDNN library needs to have matching major version and equal or higher minor version. If using a binary install, upgrade your CuDNN library.  If building from sources, make sure the library loaded at runtime is compatible with the version specified during compile configuration.\n",
      "2025-09-12 17:55:06.426125: E external/xla/xla/stream_executor/cuda/cuda_dnn.cc:466] Loaded runtime CuDNN library: 9.1.0 but source was compiled with: 9.8.0.  CuDNN library needs to have matching major version and equal or higher minor version. If using a binary install, upgrade your CuDNN library.  If building from sources, make sure the library loaded at runtime is compatible with the version specified during compile configuration.\n"
     ]
    }
   ],
   "source": [
    "from jax import config\n",
    "config.update(\"jax_default_matmul_precision\", \"float32\")\n",
    "print(jax.devices())"
   ]
  },
  {
   "cell_type": "markdown",
   "id": "1ed65dab",
   "metadata": {},
   "source": [
    "#### Loading Image Data\n",
    "- Here we load the MNSIT handwritten-digit image classification set in memory.\n",
    "- The details are related to simulation speed, not MGD, so just think of this as something that will feed your model data."
   ]
  },
  {
   "cell_type": "code",
   "execution_count": 3,
   "id": "f652dedb",
   "metadata": {},
   "outputs": [
    {
     "data": {
      "application/vnd.jupyter.widget-view+json": {
       "model_id": "ee8f9fb0db9f49d7b22b123df38665e6",
       "version_major": 2,
       "version_minor": 0
      },
      "text/plain": [
       "Map:   0%|          | 0/60000 [00:00<?, ? examples/s]"
      ]
     },
     "metadata": {},
     "output_type": "display_data"
    },
    {
     "name": "stderr",
     "output_type": "stream",
     "text": [
      "2025-09-12 17:55:10.035315: E external/xla/xla/stream_executor/cuda/cuda_dnn.cc:466] Loaded runtime CuDNN library: 9.1.0 but source was compiled with: 9.8.0.  CuDNN library needs to have matching major version and equal or higher minor version. If using a binary install, upgrade your CuDNN library.  If building from sources, make sure the library loaded at runtime is compatible with the version specified during compile configuration.\n",
      "2025-09-12 17:55:10.038782: E external/xla/xla/stream_executor/cuda/cuda_dnn.cc:466] Loaded runtime CuDNN library: 9.1.0 but source was compiled with: 9.8.0.  CuDNN library needs to have matching major version and equal or higher minor version. If using a binary install, upgrade your CuDNN library.  If building from sources, make sure the library loaded at runtime is compatible with the version specified during compile configuration.\n"
     ]
    },
    {
     "ename": "XlaRuntimeError",
     "evalue": "FAILED_PRECONDITION: DNN library initialization failed. Look at the errors above for more details.",
     "output_type": "error",
     "traceback": [
      "\u001b[31m---------------------------------------------------------------------------\u001b[39m",
      "\u001b[31mXlaRuntimeError\u001b[39m                           Traceback (most recent call last)",
      "\u001b[36mCell\u001b[39m\u001b[36m \u001b[39m\u001b[32mIn[3]\u001b[39m\u001b[32m, line 2\u001b[39m\n\u001b[32m      1\u001b[39m batch_size = \u001b[32m128\u001b[39m\n\u001b[32m----> \u001b[39m\u001b[32m2\u001b[39m trainloader, testloader = \u001b[43mdat\u001b[49m\u001b[43m.\u001b[49m\u001b[43mload_mnist_in_memory\u001b[49m\u001b[43m(\u001b[49m\u001b[43mbatch_size\u001b[49m\u001b[43m)\u001b[49m\n",
      "\u001b[36mFile \u001b[39m\u001b[32m~/repos/recurrent-mgd/src/data_loader.py:186\u001b[39m, in \u001b[36mload_mnist_in_memory\u001b[39m\u001b[34m(batch_size)\u001b[39m\n\u001b[32m    183\u001b[39m     sample[\u001b[33m'\u001b[39m\u001b[33mlabel\u001b[39m\u001b[33m'\u001b[39m] = jax.nn.one_hot(sample[\u001b[33m'\u001b[39m\u001b[33mlabel\u001b[39m\u001b[33m'\u001b[39m], \u001b[32m10\u001b[39m)\n\u001b[32m    184\u001b[39m     \u001b[38;5;28;01mreturn\u001b[39;00m sample\n\u001b[32m--> \u001b[39m\u001b[32m186\u001b[39m trainset = \u001b[43mtrainset\u001b[49m\u001b[43m.\u001b[49m\u001b[43mmap\u001b[49m\u001b[43m(\u001b[49m\u001b[43mpreprocess\u001b[49m\u001b[43m)\u001b[49m.shuffle(seed=\u001b[32m0\u001b[39m)\n\u001b[32m    187\u001b[39m testset = testset.map(preprocess).shuffle(seed=\u001b[32m0\u001b[39m)\n\u001b[32m    189\u001b[39m \u001b[38;5;66;03m# Make datasets output in numpy format\u001b[39;00m\n",
      "\u001b[36mFile \u001b[39m\u001b[32m~/repos/recurrent-mgd/.venv/lib/python3.12/site-packages/datasets/arrow_dataset.py:560\u001b[39m, in \u001b[36mtransmit_format.<locals>.wrapper\u001b[39m\u001b[34m(*args, **kwargs)\u001b[39m\n\u001b[32m    553\u001b[39m self_format = {\n\u001b[32m    554\u001b[39m     \u001b[33m\"\u001b[39m\u001b[33mtype\u001b[39m\u001b[33m\"\u001b[39m: \u001b[38;5;28mself\u001b[39m._format_type,\n\u001b[32m    555\u001b[39m     \u001b[33m\"\u001b[39m\u001b[33mformat_kwargs\u001b[39m\u001b[33m\"\u001b[39m: \u001b[38;5;28mself\u001b[39m._format_kwargs,\n\u001b[32m    556\u001b[39m     \u001b[33m\"\u001b[39m\u001b[33mcolumns\u001b[39m\u001b[33m\"\u001b[39m: \u001b[38;5;28mself\u001b[39m._format_columns,\n\u001b[32m    557\u001b[39m     \u001b[33m\"\u001b[39m\u001b[33moutput_all_columns\u001b[39m\u001b[33m\"\u001b[39m: \u001b[38;5;28mself\u001b[39m._output_all_columns,\n\u001b[32m    558\u001b[39m }\n\u001b[32m    559\u001b[39m \u001b[38;5;66;03m# apply actual function\u001b[39;00m\n\u001b[32m--> \u001b[39m\u001b[32m560\u001b[39m out: Union[\u001b[33m\"\u001b[39m\u001b[33mDataset\u001b[39m\u001b[33m\"\u001b[39m, \u001b[33m\"\u001b[39m\u001b[33mDatasetDict\u001b[39m\u001b[33m\"\u001b[39m] = \u001b[43mfunc\u001b[49m\u001b[43m(\u001b[49m\u001b[38;5;28;43mself\u001b[39;49m\u001b[43m,\u001b[49m\u001b[43m \u001b[49m\u001b[43m*\u001b[49m\u001b[43margs\u001b[49m\u001b[43m,\u001b[49m\u001b[43m \u001b[49m\u001b[43m*\u001b[49m\u001b[43m*\u001b[49m\u001b[43mkwargs\u001b[49m\u001b[43m)\u001b[49m\n\u001b[32m    561\u001b[39m datasets: \u001b[38;5;28mlist\u001b[39m[\u001b[33m\"\u001b[39m\u001b[33mDataset\u001b[39m\u001b[33m\"\u001b[39m] = \u001b[38;5;28mlist\u001b[39m(out.values()) \u001b[38;5;28;01mif\u001b[39;00m \u001b[38;5;28misinstance\u001b[39m(out, \u001b[38;5;28mdict\u001b[39m) \u001b[38;5;28;01melse\u001b[39;00m [out]\n\u001b[32m    562\u001b[39m \u001b[38;5;66;03m# re-apply format to the output\u001b[39;00m\n",
      "\u001b[36mFile \u001b[39m\u001b[32m~/repos/recurrent-mgd/.venv/lib/python3.12/site-packages/datasets/arrow_dataset.py:3318\u001b[39m, in \u001b[36mDataset.map\u001b[39m\u001b[34m(self, function, with_indices, with_rank, input_columns, batched, batch_size, drop_last_batch, remove_columns, keep_in_memory, load_from_cache_file, cache_file_name, writer_batch_size, features, disable_nullable, fn_kwargs, num_proc, suffix_template, new_fingerprint, desc, try_original_type)\u001b[39m\n\u001b[32m   3316\u001b[39m     \u001b[38;5;28;01melse\u001b[39;00m:\n\u001b[32m   3317\u001b[39m         \u001b[38;5;28;01mfor\u001b[39;00m unprocessed_kwargs \u001b[38;5;129;01min\u001b[39;00m unprocessed_kwargs_per_job:\n\u001b[32m-> \u001b[39m\u001b[32m3318\u001b[39m \u001b[43m            \u001b[49m\u001b[38;5;28;43;01mfor\u001b[39;49;00m\u001b[43m \u001b[49m\u001b[43mrank\u001b[49m\u001b[43m,\u001b[49m\u001b[43m \u001b[49m\u001b[43mdone\u001b[49m\u001b[43m,\u001b[49m\u001b[43m \u001b[49m\u001b[43mcontent\u001b[49m\u001b[43m \u001b[49m\u001b[38;5;129;43;01min\u001b[39;49;00m\u001b[43m \u001b[49m\u001b[43mDataset\u001b[49m\u001b[43m.\u001b[49m\u001b[43m_map_single\u001b[49m\u001b[43m(\u001b[49m\u001b[43m*\u001b[49m\u001b[43m*\u001b[49m\u001b[43munprocessed_kwargs\u001b[49m\u001b[43m)\u001b[49m\u001b[43m:\u001b[49m\n\u001b[32m   3319\u001b[39m \u001b[43m                \u001b[49m\u001b[43mcheck_if_shard_done\u001b[49m\u001b[43m(\u001b[49m\u001b[43mrank\u001b[49m\u001b[43m,\u001b[49m\u001b[43m \u001b[49m\u001b[43mdone\u001b[49m\u001b[43m,\u001b[49m\u001b[43m \u001b[49m\u001b[43mcontent\u001b[49m\u001b[43m)\u001b[49m\n\u001b[32m   3321\u001b[39m \u001b[38;5;66;03m# Avoids PermissionError on Windows (the error: https://github.com/huggingface/datasets/actions/runs/4026734820/jobs/6921621805)\u001b[39;00m\n",
      "\u001b[36mFile \u001b[39m\u001b[32m~/repos/recurrent-mgd/.venv/lib/python3.12/site-packages/datasets/arrow_dataset.py:3650\u001b[39m, in \u001b[36mDataset._map_single\u001b[39m\u001b[34m(shard, function, with_indices, with_rank, input_columns, batched, batch_size, drop_last_batch, remove_columns, keep_in_memory, cache_file_name, writer_batch_size, features, disable_nullable, fn_kwargs, new_fingerprint, rank, offset, try_original_type)\u001b[39m\n\u001b[32m   3648\u001b[39m \u001b[38;5;28;01mif\u001b[39;00m \u001b[38;5;129;01mnot\u001b[39;00m batched:\n\u001b[32m   3649\u001b[39m     _time = time.time()\n\u001b[32m-> \u001b[39m\u001b[32m3650\u001b[39m \u001b[43m    \u001b[49m\u001b[38;5;28;43;01mfor\u001b[39;49;00m\u001b[43m \u001b[49m\u001b[43mi\u001b[49m\u001b[43m,\u001b[49m\u001b[43m \u001b[49m\u001b[43mexample\u001b[49m\u001b[43m \u001b[49m\u001b[38;5;129;43;01min\u001b[39;49;00m\u001b[43m \u001b[49m\u001b[43miter_outputs\u001b[49m\u001b[43m(\u001b[49m\u001b[43mshard_iterable\u001b[49m\u001b[43m)\u001b[49m\u001b[43m:\u001b[49m\n\u001b[32m   3651\u001b[39m \u001b[43m        \u001b[49m\u001b[38;5;28;43;01mif\u001b[39;49;00m\u001b[43m \u001b[49m\u001b[43mupdate_data\u001b[49m\u001b[43m:\u001b[49m\n\u001b[32m   3652\u001b[39m \u001b[43m            \u001b[49m\u001b[38;5;28;43;01mif\u001b[39;49;00m\u001b[43m \u001b[49m\u001b[43mi\u001b[49m\u001b[43m \u001b[49m\u001b[43m==\u001b[49m\u001b[43m \u001b[49m\u001b[32;43m0\u001b[39;49m\u001b[43m:\u001b[49m\n",
      "\u001b[36mFile \u001b[39m\u001b[32m~/repos/recurrent-mgd/.venv/lib/python3.12/site-packages/datasets/arrow_dataset.py:3624\u001b[39m, in \u001b[36mDataset._map_single.<locals>.iter_outputs\u001b[39m\u001b[34m(shard_iterable)\u001b[39m\n\u001b[32m   3622\u001b[39m \u001b[38;5;28;01melse\u001b[39;00m:\n\u001b[32m   3623\u001b[39m     \u001b[38;5;28;01mfor\u001b[39;00m i, example \u001b[38;5;129;01min\u001b[39;00m shard_iterable:\n\u001b[32m-> \u001b[39m\u001b[32m3624\u001b[39m         \u001b[38;5;28;01myield\u001b[39;00m i, \u001b[43mapply_function\u001b[49m\u001b[43m(\u001b[49m\u001b[43mexample\u001b[49m\u001b[43m,\u001b[49m\u001b[43m \u001b[49m\u001b[43mi\u001b[49m\u001b[43m,\u001b[49m\u001b[43m \u001b[49m\u001b[43moffset\u001b[49m\u001b[43m=\u001b[49m\u001b[43moffset\u001b[49m\u001b[43m)\u001b[49m\n",
      "\u001b[36mFile \u001b[39m\u001b[32m~/repos/recurrent-mgd/.venv/lib/python3.12/site-packages/datasets/arrow_dataset.py:3547\u001b[39m, in \u001b[36mDataset._map_single.<locals>.apply_function\u001b[39m\u001b[34m(pa_inputs, indices, offset)\u001b[39m\n\u001b[32m   3545\u001b[39m \u001b[38;5;250m\u001b[39m\u001b[33;03m\"\"\"Utility to apply the function on a selection of columns.\"\"\"\u001b[39;00m\n\u001b[32m   3546\u001b[39m inputs, fn_args, additional_args, fn_kwargs = prepare_inputs(pa_inputs, indices, offset=offset)\n\u001b[32m-> \u001b[39m\u001b[32m3547\u001b[39m processed_inputs = \u001b[43mfunction\u001b[49m\u001b[43m(\u001b[49m\u001b[43m*\u001b[49m\u001b[43mfn_args\u001b[49m\u001b[43m,\u001b[49m\u001b[43m \u001b[49m\u001b[43m*\u001b[49m\u001b[43madditional_args\u001b[49m\u001b[43m,\u001b[49m\u001b[43m \u001b[49m\u001b[43m*\u001b[49m\u001b[43m*\u001b[49m\u001b[43mfn_kwargs\u001b[49m\u001b[43m)\u001b[49m\n\u001b[32m   3548\u001b[39m \u001b[38;5;28;01mreturn\u001b[39;00m prepare_outputs(pa_inputs, inputs, processed_inputs)\n",
      "\u001b[36mFile \u001b[39m\u001b[32m~/repos/recurrent-mgd/src/data_loader.py:183\u001b[39m, in \u001b[36mload_mnist_in_memory.<locals>.preprocess\u001b[39m\u001b[34m(sample)\u001b[39m\n\u001b[32m    182\u001b[39m \u001b[38;5;28;01mdef\u001b[39;00m\u001b[38;5;250m \u001b[39m\u001b[34mpreprocess\u001b[39m(sample):\n\u001b[32m--> \u001b[39m\u001b[32m183\u001b[39m     sample[\u001b[33m'\u001b[39m\u001b[33mlabel\u001b[39m\u001b[33m'\u001b[39m] = \u001b[43mjax\u001b[49m\u001b[43m.\u001b[49m\u001b[43mnn\u001b[49m\u001b[43m.\u001b[49m\u001b[43mone_hot\u001b[49m\u001b[43m(\u001b[49m\u001b[43msample\u001b[49m\u001b[43m[\u001b[49m\u001b[33;43m'\u001b[39;49m\u001b[33;43mlabel\u001b[39;49m\u001b[33;43m'\u001b[39;49m\u001b[43m]\u001b[49m\u001b[43m,\u001b[49m\u001b[43m \u001b[49m\u001b[32;43m10\u001b[39;49m\u001b[43m)\u001b[49m\n\u001b[32m    184\u001b[39m     \u001b[38;5;28;01mreturn\u001b[39;00m sample\n",
      "\u001b[36mFile \u001b[39m\u001b[32m~/repos/recurrent-mgd/.venv/lib/python3.12/site-packages/jax/_src/nn/functions.py:770\u001b[39m, in \u001b[36mone_hot\u001b[39m\u001b[34m(x, num_classes, dtype, axis)\u001b[39m\n\u001b[32m    744\u001b[39m \u001b[38;5;250m\u001b[39m\u001b[33;03m\"\"\"One-hot encodes the given indices.\u001b[39;00m\n\u001b[32m    745\u001b[39m \n\u001b[32m    746\u001b[39m \u001b[33;03mEach index in the input ``x`` is encoded as a vector of zeros of length\u001b[39;00m\n\u001b[32m   (...)\u001b[39m\u001b[32m    765\u001b[39m \u001b[33;03m    computed.\u001b[39;00m\n\u001b[32m    766\u001b[39m \u001b[33;03m\"\"\"\u001b[39;00m\n\u001b[32m    767\u001b[39m num_classes = core.concrete_dim_or_error(\n\u001b[32m    768\u001b[39m     num_classes,\n\u001b[32m    769\u001b[39m     \u001b[33m\"\u001b[39m\u001b[33mThe error arose in jax.nn.one_hot argument `num_classes`.\u001b[39m\u001b[33m\"\u001b[39m)\n\u001b[32m--> \u001b[39m\u001b[32m770\u001b[39m x_arr = \u001b[43mjnp\u001b[49m\u001b[43m.\u001b[49m\u001b[43masarray\u001b[49m\u001b[43m(\u001b[49m\u001b[43mx\u001b[49m\u001b[43m)\u001b[49m\n\u001b[32m    771\u001b[39m \u001b[38;5;28;01mif\u001b[39;00m \u001b[38;5;129;01mnot\u001b[39;00m dtypes.isdtype(x_arr.dtype, \u001b[33m\"\u001b[39m\u001b[33mintegral\u001b[39m\u001b[33m\"\u001b[39m):\n\u001b[32m    772\u001b[39m   \u001b[38;5;66;03m# Deprecated 2024-12-18\u001b[39;00m\n\u001b[32m    773\u001b[39m   deprecations.warn(\n\u001b[32m    774\u001b[39m     \u001b[33m'\u001b[39m\u001b[33mjax-nn-one-hot-float-input\u001b[39m\u001b[33m'\u001b[39m,\n\u001b[32m    775\u001b[39m     \u001b[33mf\u001b[39m\u001b[33m\"\u001b[39m\u001b[33mjax.nn.one_hot input should be integer-typed; got dtype=\u001b[39m\u001b[38;5;132;01m{\u001b[39;00mx_arr.dtype\u001b[38;5;132;01m}\u001b[39;00m\u001b[33m\"\u001b[39m,\n\u001b[32m    776\u001b[39m     stacklevel=\u001b[32m1\u001b[39m)\n",
      "\u001b[36mFile \u001b[39m\u001b[32m~/repos/recurrent-mgd/.venv/lib/python3.12/site-packages/jax/_src/numpy/array_constructors.py:383\u001b[39m, in \u001b[36masarray\u001b[39m\u001b[34m(a, dtype, order, copy, device)\u001b[39m\n\u001b[32m    381\u001b[39m \u001b[38;5;28;01mif\u001b[39;00m dtype \u001b[38;5;129;01mis\u001b[39;00m \u001b[38;5;129;01mnot\u001b[39;00m \u001b[38;5;28;01mNone\u001b[39;00m:\n\u001b[32m    382\u001b[39m   dtype = dtypes.canonicalize_dtype(dtype, allow_extended_dtype=\u001b[38;5;28;01mTrue\u001b[39;00m)  \u001b[38;5;66;03m# type: ignore[assignment]\u001b[39;00m\n\u001b[32m--> \u001b[39m\u001b[32m383\u001b[39m \u001b[38;5;28;01mreturn\u001b[39;00m \u001b[43marray\u001b[49m\u001b[43m(\u001b[49m\u001b[43ma\u001b[49m\u001b[43m,\u001b[49m\u001b[43m \u001b[49m\u001b[43mdtype\u001b[49m\u001b[43m=\u001b[49m\u001b[43mdtype\u001b[49m\u001b[43m,\u001b[49m\u001b[43m \u001b[49m\u001b[43mcopy\u001b[49m\u001b[43m=\u001b[49m\u001b[38;5;28;43mbool\u001b[39;49m\u001b[43m(\u001b[49m\u001b[43mcopy\u001b[49m\u001b[43m)\u001b[49m\u001b[43m,\u001b[49m\u001b[43m \u001b[49m\u001b[43morder\u001b[49m\u001b[43m=\u001b[49m\u001b[43morder\u001b[49m\u001b[43m,\u001b[49m\u001b[43m \u001b[49m\u001b[43mdevice\u001b[49m\u001b[43m=\u001b[49m\u001b[43mdevice\u001b[49m\u001b[43m)\u001b[49m\n",
      "\u001b[36mFile \u001b[39m\u001b[32m~/repos/recurrent-mgd/.venv/lib/python3.12/site-packages/jax/_src/numpy/array_constructors.py:268\u001b[39m, in \u001b[36marray\u001b[39m\u001b[34m(object, dtype, copy, order, ndmin, device)\u001b[39m\n\u001b[32m    266\u001b[39m \u001b[38;5;28;01melse\u001b[39;00m:\n\u001b[32m    267\u001b[39m   \u001b[38;5;28;01mraise\u001b[39;00m \u001b[38;5;167;01mTypeError\u001b[39;00m(\u001b[33mf\u001b[39m\u001b[33m\"\u001b[39m\u001b[33mUnexpected input type for array: \u001b[39m\u001b[38;5;132;01m{\u001b[39;00m\u001b[38;5;28mtype\u001b[39m(\u001b[38;5;28mobject\u001b[39m)\u001b[38;5;132;01m}\u001b[39;00m\u001b[33m\"\u001b[39m)\n\u001b[32m--> \u001b[39m\u001b[32m268\u001b[39m out_array: Array = \u001b[43mlax\u001b[49m\u001b[43m.\u001b[49m\u001b[43m_convert_element_type\u001b[49m\u001b[43m(\u001b[49m\n\u001b[32m    269\u001b[39m \u001b[43m    \u001b[49m\u001b[43mout\u001b[49m\u001b[43m,\u001b[49m\u001b[43m \u001b[49m\u001b[43mdtype\u001b[49m\u001b[43m,\u001b[49m\u001b[43m \u001b[49m\u001b[43mweak_type\u001b[49m\u001b[43m=\u001b[49m\u001b[43mweak_type\u001b[49m\u001b[43m,\u001b[49m\u001b[43m \u001b[49m\u001b[43msharding\u001b[49m\u001b[43m=\u001b[49m\u001b[43msharding\u001b[49m\u001b[43m)\u001b[49m\n\u001b[32m    270\u001b[39m \u001b[38;5;28;01mif\u001b[39;00m ndmin > np.ndim(out_array):\n\u001b[32m    271\u001b[39m   out_array = lax.expand_dims(out_array, \u001b[38;5;28mrange\u001b[39m(ndmin - np.ndim(out_array)))\n",
      "\u001b[36mFile \u001b[39m\u001b[32m~/repos/recurrent-mgd/.venv/lib/python3.12/site-packages/jax/_src/lax/lax.py:1725\u001b[39m, in \u001b[36m_convert_element_type\u001b[39m\u001b[34m(operand, new_dtype, weak_type, sharding, warn_on_complex_to_real_cast)\u001b[39m\n\u001b[32m   1723\u001b[39m   \u001b[38;5;28;01mreturn\u001b[39;00m operand\n\u001b[32m   1724\u001b[39m \u001b[38;5;28;01melse\u001b[39;00m:\n\u001b[32m-> \u001b[39m\u001b[32m1725\u001b[39m   \u001b[38;5;28;01mreturn\u001b[39;00m \u001b[43mconvert_element_type_p\u001b[49m\u001b[43m.\u001b[49m\u001b[43mbind\u001b[49m\u001b[43m(\u001b[49m\n\u001b[32m   1726\u001b[39m \u001b[43m      \u001b[49m\u001b[43moperand\u001b[49m\u001b[43m,\u001b[49m\u001b[43m \u001b[49m\u001b[43mnew_dtype\u001b[49m\u001b[43m=\u001b[49m\u001b[43mnew_dtype\u001b[49m\u001b[43m,\u001b[49m\u001b[43m \u001b[49m\u001b[43mweak_type\u001b[49m\u001b[43m=\u001b[49m\u001b[38;5;28;43mbool\u001b[39;49m\u001b[43m(\u001b[49m\u001b[43mweak_type\u001b[49m\u001b[43m)\u001b[49m\u001b[43m,\u001b[49m\n\u001b[32m   1727\u001b[39m \u001b[43m      \u001b[49m\u001b[43msharding\u001b[49m\u001b[43m=\u001b[49m\u001b[43msharding\u001b[49m\u001b[43m)\u001b[49m\n",
      "\u001b[36mFile \u001b[39m\u001b[32m~/repos/recurrent-mgd/.venv/lib/python3.12/site-packages/jax/_src/core.py:612\u001b[39m, in \u001b[36mPrimitive.bind\u001b[39m\u001b[34m(self, *args, **params)\u001b[39m\n\u001b[32m    610\u001b[39m \u001b[38;5;28;01mdef\u001b[39;00m\u001b[38;5;250m \u001b[39m\u001b[34mbind\u001b[39m(\u001b[38;5;28mself\u001b[39m, *args, **params):\n\u001b[32m    611\u001b[39m   args = args \u001b[38;5;28;01mif\u001b[39;00m \u001b[38;5;28mself\u001b[39m.skip_canonicalization \u001b[38;5;28;01melse\u001b[39;00m \u001b[38;5;28mmap\u001b[39m(canonicalize_value, args)\n\u001b[32m--> \u001b[39m\u001b[32m612\u001b[39m   \u001b[38;5;28;01mreturn\u001b[39;00m \u001b[38;5;28;43mself\u001b[39;49m\u001b[43m.\u001b[49m\u001b[43m_true_bind\u001b[49m\u001b[43m(\u001b[49m\u001b[43m*\u001b[49m\u001b[43margs\u001b[49m\u001b[43m,\u001b[49m\u001b[43m \u001b[49m\u001b[43m*\u001b[49m\u001b[43m*\u001b[49m\u001b[43mparams\u001b[49m\u001b[43m)\u001b[49m\n",
      "\u001b[36mFile \u001b[39m\u001b[32m~/repos/recurrent-mgd/.venv/lib/python3.12/site-packages/jax/_src/core.py:628\u001b[39m, in \u001b[36mPrimitive._true_bind\u001b[39m\u001b[34m(self, *args, **params)\u001b[39m\n\u001b[32m    626\u001b[39m trace_ctx.set_trace(eval_trace)\n\u001b[32m    627\u001b[39m \u001b[38;5;28;01mtry\u001b[39;00m:\n\u001b[32m--> \u001b[39m\u001b[32m628\u001b[39m   \u001b[38;5;28;01mreturn\u001b[39;00m \u001b[38;5;28;43mself\u001b[39;49m\u001b[43m.\u001b[49m\u001b[43mbind_with_trace\u001b[49m\u001b[43m(\u001b[49m\u001b[43mprev_trace\u001b[49m\u001b[43m,\u001b[49m\u001b[43m \u001b[49m\u001b[43margs\u001b[49m\u001b[43m,\u001b[49m\u001b[43m \u001b[49m\u001b[43mparams\u001b[49m\u001b[43m)\u001b[49m\n\u001b[32m    629\u001b[39m \u001b[38;5;28;01mfinally\u001b[39;00m:\n\u001b[32m    630\u001b[39m   trace_ctx.set_trace(prev_trace)\n",
      "\u001b[36mFile \u001b[39m\u001b[32m~/repos/recurrent-mgd/.venv/lib/python3.12/site-packages/jax/_src/lax/lax.py:4934\u001b[39m, in \u001b[36m_convert_element_type_bind_with_trace\u001b[39m\u001b[34m(trace, args, params)\u001b[39m\n\u001b[32m   4932\u001b[39m \u001b[38;5;28;01mdef\u001b[39;00m\u001b[38;5;250m \u001b[39m\u001b[34m_convert_element_type_bind_with_trace\u001b[39m(trace, args, params):\n\u001b[32m   4933\u001b[39m   sharding = params[\u001b[33m'\u001b[39m\u001b[33msharding\u001b[39m\u001b[33m'\u001b[39m]\n\u001b[32m-> \u001b[39m\u001b[32m4934\u001b[39m   operand = \u001b[43mcore\u001b[49m\u001b[43m.\u001b[49m\u001b[43mPrimitive\u001b[49m\u001b[43m.\u001b[49m\u001b[43mbind_with_trace\u001b[49m\u001b[43m(\u001b[49m\u001b[43mconvert_element_type_p\u001b[49m\u001b[43m,\u001b[49m\u001b[43m \u001b[49m\u001b[43mtrace\u001b[49m\u001b[43m,\u001b[49m\u001b[43m \u001b[49m\u001b[43margs\u001b[49m\u001b[43m,\u001b[49m\u001b[43m \u001b[49m\u001b[43mparams\u001b[49m\u001b[43m)\u001b[49m\n\u001b[32m   4935\u001b[39m   \u001b[38;5;28;01mif\u001b[39;00m sharding \u001b[38;5;129;01mis\u001b[39;00m \u001b[38;5;129;01mnot\u001b[39;00m \u001b[38;5;28;01mNone\u001b[39;00m \u001b[38;5;129;01mand\u001b[39;00m sharding._is_concrete:\n\u001b[32m   4936\u001b[39m     \u001b[38;5;28;01mwith\u001b[39;00m core.set_current_trace(trace):\n",
      "\u001b[36mFile \u001b[39m\u001b[32m~/repos/recurrent-mgd/.venv/lib/python3.12/site-packages/jax/_src/core.py:638\u001b[39m, in \u001b[36mPrimitive.bind_with_trace\u001b[39m\u001b[34m(self, trace, args, params)\u001b[39m\n\u001b[32m    635\u001b[39m   \u001b[38;5;28;01mwith\u001b[39;00m set_current_trace(trace):\n\u001b[32m    636\u001b[39m     \u001b[38;5;28;01mreturn\u001b[39;00m \u001b[38;5;28mself\u001b[39m.to_lojax(*args, **params)  \u001b[38;5;66;03m# type: ignore\u001b[39;00m\n\u001b[32m--> \u001b[39m\u001b[32m638\u001b[39m \u001b[38;5;28;01mreturn\u001b[39;00m \u001b[43mtrace\u001b[49m\u001b[43m.\u001b[49m\u001b[43mprocess_primitive\u001b[49m\u001b[43m(\u001b[49m\u001b[38;5;28;43mself\u001b[39;49m\u001b[43m,\u001b[49m\u001b[43m \u001b[49m\u001b[43margs\u001b[49m\u001b[43m,\u001b[49m\u001b[43m \u001b[49m\u001b[43mparams\u001b[49m\u001b[43m)\u001b[49m\n",
      "\u001b[36mFile \u001b[39m\u001b[32m~/repos/recurrent-mgd/.venv/lib/python3.12/site-packages/jax/_src/core.py:1162\u001b[39m, in \u001b[36mEvalTrace.process_primitive\u001b[39m\u001b[34m(self, primitive, args, params)\u001b[39m\n\u001b[32m   1160\u001b[39m args = \u001b[38;5;28mmap\u001b[39m(full_lower, args)\n\u001b[32m   1161\u001b[39m check_eval_args(args)\n\u001b[32m-> \u001b[39m\u001b[32m1162\u001b[39m \u001b[38;5;28;01mreturn\u001b[39;00m \u001b[43mprimitive\u001b[49m\u001b[43m.\u001b[49m\u001b[43mimpl\u001b[49m\u001b[43m(\u001b[49m\u001b[43m*\u001b[49m\u001b[43margs\u001b[49m\u001b[43m,\u001b[49m\u001b[43m \u001b[49m\u001b[43m*\u001b[49m\u001b[43m*\u001b[49m\u001b[43mparams\u001b[49m\u001b[43m)\u001b[49m\n",
      "\u001b[36mFile \u001b[39m\u001b[32m~/repos/recurrent-mgd/.venv/lib/python3.12/site-packages/jax/_src/dispatch.py:90\u001b[39m, in \u001b[36mapply_primitive\u001b[39m\u001b[34m(prim, *args, **params)\u001b[39m\n\u001b[32m     88\u001b[39m prev = lib.jax_jit.swap_thread_local_state_disable_jit(\u001b[38;5;28;01mFalse\u001b[39;00m)\n\u001b[32m     89\u001b[39m \u001b[38;5;28;01mtry\u001b[39;00m:\n\u001b[32m---> \u001b[39m\u001b[32m90\u001b[39m   outs = \u001b[43mfun\u001b[49m\u001b[43m(\u001b[49m\u001b[43m*\u001b[49m\u001b[43margs\u001b[49m\u001b[43m)\u001b[49m\n\u001b[32m     91\u001b[39m \u001b[38;5;28;01mfinally\u001b[39;00m:\n\u001b[32m     92\u001b[39m   lib.jax_jit.swap_thread_local_state_disable_jit(prev)\n",
      "    \u001b[31m[... skipping hidden 11 frame]\u001b[39m\n",
      "\u001b[36mFile \u001b[39m\u001b[32m~/repos/recurrent-mgd/.venv/lib/python3.12/site-packages/jax/_src/compiler.py:378\u001b[39m, in \u001b[36mbackend_compile_and_load\u001b[39m\u001b[34m(backend, module, executable_devices, options, host_callbacks)\u001b[39m\n\u001b[32m    369\u001b[39m       \u001b[38;5;28;01mreturn\u001b[39;00m backend.compile_and_load(\n\u001b[32m    370\u001b[39m           built_c,\n\u001b[32m    371\u001b[39m           executable_devices=executable_devices,\n\u001b[32m    372\u001b[39m           compile_options=options,\n\u001b[32m    373\u001b[39m           host_callbacks=host_callbacks,\n\u001b[32m    374\u001b[39m       )\n\u001b[32m    375\u001b[39m     \u001b[38;5;66;03m# Some backends don't have `host_callbacks` option yet\u001b[39;00m\n\u001b[32m    376\u001b[39m     \u001b[38;5;66;03m# TODO(sharadmv): remove this fallback when all backends allow `compile`\u001b[39;00m\n\u001b[32m    377\u001b[39m     \u001b[38;5;66;03m# to take in `host_callbacks`\u001b[39;00m\n\u001b[32m--> \u001b[39m\u001b[32m378\u001b[39m     \u001b[38;5;28;01mreturn\u001b[39;00m \u001b[43mbackend\u001b[49m\u001b[43m.\u001b[49m\u001b[43mcompile_and_load\u001b[49m\u001b[43m(\u001b[49m\n\u001b[32m    379\u001b[39m \u001b[43m        \u001b[49m\u001b[43mbuilt_c\u001b[49m\u001b[43m,\u001b[49m\n\u001b[32m    380\u001b[39m \u001b[43m        \u001b[49m\u001b[43mexecutable_devices\u001b[49m\u001b[43m=\u001b[49m\u001b[43mexecutable_devices\u001b[49m\u001b[43m,\u001b[49m\n\u001b[32m    381\u001b[39m \u001b[43m        \u001b[49m\u001b[43mcompile_options\u001b[49m\u001b[43m=\u001b[49m\u001b[43moptions\u001b[49m\u001b[43m,\u001b[49m\n\u001b[32m    382\u001b[39m \u001b[43m    \u001b[49m\u001b[43m)\u001b[49m\n\u001b[32m    383\u001b[39m \u001b[38;5;28;01mexcept\u001b[39;00m xc.XlaRuntimeError \u001b[38;5;28;01mas\u001b[39;00m e:\n\u001b[32m    384\u001b[39m   \u001b[38;5;28;01mfor\u001b[39;00m error_handler \u001b[38;5;129;01min\u001b[39;00m _XLA_RUNTIME_ERROR_HANDLERS:\n",
      "\u001b[31mXlaRuntimeError\u001b[39m: FAILED_PRECONDITION: DNN library initialization failed. Look at the errors above for more details."
     ]
    }
   ],
   "source": [
    "batch_size = 128\n",
    "trainloader, testloader = dat.load_mnist_in_memory(batch_size)"
   ]
  },
  {
   "cell_type": "markdown",
   "id": "f409e675",
   "metadata": {},
   "source": [
    "#### Initialize (any) network\n",
    " - MGD is model-free and therefore indifferent to network topology, activation function, and node variation. \n",
    " - We here implement a simple multi-layer feedforward neural network (an MLP).\n",
    " - In the recurrent tutorial, we examine more varied topologies.\n",
    " - The below network\"\n",
    "    - A feedforward artifical neural nework (ANN or MLP)\n",
    "    - Relu activation funcitons in the hidden layers\n",
    "    - Layer sizes defined by `hidden_dims`\n",
    "    - Parameters given by `params` (produced under the hood by jax.flax.nn)\n",
    "    - Forward pass function given by `__call__`\n",
    "    - Note that parameters are only initialized with the first `model.init` call and then are otherwise run in a feedforward fashion given some input `x`"
   ]
  },
  {
   "cell_type": "code",
   "execution_count": 1,
   "id": "5869b4e6",
   "metadata": {},
   "outputs": [
    {
     "ename": "NameError",
     "evalue": "name 'nn' is not defined",
     "output_type": "error",
     "traceback": [
      "\u001b[31m---------------------------------------------------------------------------\u001b[39m",
      "\u001b[31mNameError\u001b[39m                                 Traceback (most recent call last)",
      "\u001b[36mCell\u001b[39m\u001b[36m \u001b[39m\u001b[32mIn[1]\u001b[39m\u001b[32m, line 1\u001b[39m\n\u001b[32m----> \u001b[39m\u001b[32m1\u001b[39m \u001b[38;5;28;01mclass\u001b[39;00m\u001b[38;5;250m \u001b[39m\u001b[34;01mMLP\u001b[39;00m(\u001b[43mnn\u001b[49m.Module):\n\u001b[32m      2\u001b[39m     hidden_sizes: \u001b[38;5;28mlist\u001b[39m[\u001b[38;5;28mint\u001b[39m]\n\u001b[32m      3\u001b[39m     \u001b[38;5;129m@nn\u001b[39m.compact\n\u001b[32m      4\u001b[39m     \u001b[38;5;28;01mdef\u001b[39;00m\u001b[38;5;250m \u001b[39m\u001b[34m__call__\u001b[39m(\u001b[38;5;28mself\u001b[39m, x):\n",
      "\u001b[31mNameError\u001b[39m: name 'nn' is not defined"
     ]
    }
   ],
   "source": [
    "class MLP(nn.Module):\n",
    "    hidden_sizes: list[int]\n",
    "    @nn.compact\n",
    "    def __call__(self, x):\n",
    "        x = x.reshape(x.shape[0], -1)\n",
    "        for size in self.hidden_sizes[:-1]:\n",
    "            x = nn.relu(nn.Dense(size)(x))\n",
    "        x = nn.Dense(self.hidden_sizes[-1])(x)\n",
    "        return x\n",
    "    \n",
    "x_batch , y_batch = next(trainloader)\n",
    "layer_dims        = [128,128,10]\n",
    "\n",
    "model = MLP(hidden_sizes=layer_dims)\n",
    "\n",
    "key    = jax.random.PRNGKey(0)\n",
    "params = model.init(key, x_batch)['params']\n",
    "print(\"Initialized network parameters:\\n\", jax.tree.map(lambda p: p.shape, params))"
   ]
  },
  {
   "cell_type": "markdown",
   "id": "7d19b623",
   "metadata": {},
   "source": [
    "## MGD by Parts"
   ]
  },
  {
   "cell_type": "markdown",
   "id": "b5228d45",
   "metadata": {},
   "source": [
    "### 1. Make a (totally normal) foward pass\n",
    "- The forward pass for MGD is exactly like any old MLP forward pass"
   ]
  },
  {
   "cell_type": "code",
   "execution_count": 5,
   "id": "3f9423b5",
   "metadata": {},
   "outputs": [
    {
     "name": "stdout",
     "output_type": "stream",
     "text": [
      "Activations of final layer (for random sample of batch):\n",
      "[-0.17355095 -0.17249393  0.08076079  0.21937808 -0.14789693  0.03759755\n",
      " -0.00388908  0.04372285 -0.00809988 -0.08101416]\n"
     ]
    }
   ],
   "source": [
    "logits = model.apply({'params': params}, x_batch)\n",
    "print(f\"Activations of final layer (for random sample of batch):\")\n",
    "print(logits[np.random.randint(batch_size)])"
   ]
  },
  {
   "cell_type": "markdown",
   "id": "b0238126",
   "metadata": {},
   "source": [
    "Like with any forward pass, we determine the loss with respect to our objective function.  Here, we use cross-entropy."
   ]
  },
  {
   "cell_type": "code",
   "execution_count": 6,
   "id": "f159d730",
   "metadata": {},
   "outputs": [
    {
     "name": "stdout",
     "output_type": "stream",
     "text": [
      "Forward pass cost: \n",
      "2.27973\n"
     ]
    }
   ],
   "source": [
    "@jax.jit\n",
    "def loss_CE(logits, labels):\n",
    "    return optax.softmax_cross_entropy(logits=logits, labels=labels).mean()\n",
    "\n",
    "cost0 = loss_CE(logits, y_batch)\n",
    "print(f\"Forward pass cost: \\n{cost0:.6}\")"
   ]
  },
  {
   "cell_type": "markdown",
   "id": "c5979beb",
   "metadata": {},
   "source": [
    "### 2. Perturb all learnable parameters simultaneously\n",
    " - Select some (small) value $\\epsilon$\n",
    " - Randomly generate $\\pm \\epsilon$ perturbations for all learnable parameters\n",
    " - Store those perturbation values for every parameter (this vector is called $\\tilde{\\theta}$) \n",
    " - Apply those perturbations to the original parameters"
   ]
  },
  {
   "cell_type": "code",
   "execution_count": 7,
   "id": "3a6619e2",
   "metadata": {},
   "outputs": [],
   "source": [
    "@jax.jit\n",
    "def sample_perturbations(params,epsilon,i):\n",
    "    key = jax.random.PRNGKey(i, impl=None)\n",
    "    return jax.tree.map(\n",
    "        lambda p: jax.random.choice(key, jnp.array([-1,1])*epsilon, shape=(p.shape)), params\n",
    "    )\n",
    "\n",
    "@jax.jit\n",
    "def apply_perturbations(theta,perturbations):\n",
    "    return jax.tree.map(lambda param, pert: param+pert, theta, perturbations)\n",
    "\n",
    "epsilon = 1e-6\n",
    "\n",
    "# create a set of epsilon-sized perturbations for the given shape of parameters\n",
    "perturbations = sample_perturbations(params,epsilon,0)\n",
    "\n",
    "# apply perturbations to copy\n",
    "params_perturbed = apply_perturbations(params,perturbations)"
   ]
  },
  {
   "cell_type": "markdown",
   "id": "74d8f41d",
   "metadata": {},
   "source": [
    "### 3. Perform forward pass (again), but now with perturbed parameters\n",
    " - You'll notice these results are not exactly equivalent to the originals."
   ]
  },
  {
   "cell_type": "code",
   "execution_count": 8,
   "id": "dba9ec0a",
   "metadata": {},
   "outputs": [
    {
     "name": "stdout",
     "output_type": "stream",
     "text": [
      "Perturbed forward pass cost: \n",
      "2.27973\n"
     ]
    }
   ],
   "source": [
    "logits_perturbed = logits = model.apply({'params': params_perturbed}, x_batch)\n",
    "cost_perturbed   = loss_CE(logits_perturbed, y_batch)\n",
    "\n",
    "print(f\"Perturbed forward pass cost: \\n{cost_perturbed:.6}\")"
   ]
  },
  {
   "cell_type": "markdown",
   "id": "d0b6278d",
   "metadata": {},
   "source": [
    "## 4. Collect the gradient\n",
    " - Collect the gradient at every parameter\n",
    " - Defined simply as the difference in orginal and perturbed cost, weighted by learning rate\n",
    " $$ \\nabla \\gets \\nabla + \\eta \\cdot \\tilde{\\theta} \\Delta C$$\n",
    " - This approximates $\\frac{\\partial C}{\\partial \\theta}$ (the true gradient) by measuring small changes in the cost with respect to small changes in the parameters. \n",
    " - A good default learning rate is $\\eta = 1/\\epsilon^2$"
   ]
  },
  {
   "cell_type": "code",
   "execution_count": 9,
   "id": "79de31c8",
   "metadata": {},
   "outputs": [
    {
     "name": "stdout",
     "output_type": "stream",
     "text": [
      "Difference in cost before and after perturbing network parameters: 7.15256e-07\n"
     ]
    }
   ],
   "source": [
    "@jax.jit\n",
    "def init_grad(params):\n",
    "    return jax.tree.map(lambda p: jnp.zeros(shape=(p.shape)), params)\n",
    "\n",
    "@jax.jit\n",
    "def collect_grad(perts,delta_c,eta,G):\n",
    "    return jax.tree.map(lambda G, p: G + eta*p*delta_c, G, perts)\n",
    "\n",
    "delta_cost = cost_perturbed - cost0\n",
    "print(f\"Difference in cost before and after perturbing network parameters: {delta_cost:.6}\")\n",
    "\n",
    "eta = 1/epsilon**2\n",
    "gradient = init_grad(params)\n",
    "gradient = collect_grad(perturbations, delta_cost, eta, gradient)"
   ]
  },
  {
   "cell_type": "markdown",
   "id": "1127217b",
   "metadata": {},
   "source": [
    "## 5. Update parameters\n",
    " - Simply apply this gradient to every parameter component-wise\n",
    " - Weight update by $\\tau_\\theta$ (the number of iterations for which the gradient was collected)\n",
    "   - Analogous to batch size\n",
    "   - In this case $\\tau_\\theta=1$"
   ]
  },
  {
   "cell_type": "code",
   "execution_count": 10,
   "id": "c4970df7",
   "metadata": {},
   "outputs": [],
   "source": [
    "@jax.jit\n",
    "def MGD_update(params,G):\n",
    "    return jax.tree.map(\n",
    "        lambda p, G: p - G, params, G\n",
    "    )\n",
    "\n",
    "params = MGD_update(params,gradient)"
   ]
  },
  {
   "cell_type": "markdown",
   "id": "cff470c1",
   "metadata": {},
   "source": [
    "## That's it! Now just repeat\n",
    " - Everything else about learning is analogous to the backprop procedure\n",
    " - However, importantly, a sophisticated gradient calculation, weight transport, and network model are *not* needed\n",
    " - Instead, two forward passes, local short-term storage of perturbations, and one global broadcast are used\n",
    " - That's it!"
   ]
  },
  {
   "cell_type": "markdown",
   "id": "80928bfd",
   "metadata": {},
   "source": [
    "### Supporting functions for training"
   ]
  },
  {
   "cell_type": "code",
   "execution_count": 11,
   "id": "d6e2f094",
   "metadata": {},
   "outputs": [],
   "source": [
    "def compute_accuracy(apply_fn, theta, x, y):\n",
    "    logits  = apply_fn({'params': theta}, x)\n",
    "    preds   = jnp.argmax(logits, axis=-1)\n",
    "    targets = jnp.argmax(y, axis=-1)\n",
    "    return (preds == targets).mean()\n",
    "\n",
    "def loss_fn_prejit(apply_fn,params,x,y):\n",
    "    logits = apply_fn({'params': params}, x)\n",
    "    loss = optax.softmax_cross_entropy(logits, y).mean()\n",
    "    return loss\n",
    "\n",
    "loss_fn = jax.jit(loss_fn_prejit, static_argnums=(0,))\n",
    "\n",
    "# deriveable normalization method\n",
    "def simple_eta_norm(K, epsilon):\n",
    "    return 1/(K*(epsilon)**2)"
   ]
  },
  {
   "cell_type": "code",
   "execution_count": 12,
   "id": "87c64eab",
   "metadata": {},
   "outputs": [
    {
     "name": "stdout",
     "output_type": "stream",
     "text": [
      "Iter 46332 :: Epoch 100  ::  cost 0.463118  :: accuracy 0.878     \r"
     ]
    },
    {
     "data": {
      "image/png": "[encoded data removed]",
      "text/plain": [
       "<Figure size 800x300 with 1 Axes>"
      ]
     },
     "metadata": {},
     "output_type": "display_data"
    }
   ],
   "source": [
    "# hyperparams\n",
    "epochs         = 100\n",
    "epsilon        = 1e-6\n",
    "layer_dims     = [128,64,10]\n",
    "learning_rate  = 1e2\n",
    "decay          = 0.1\n",
    "batch_size     = tau_theta = 128\n",
    "validation_mod = 5\n",
    "    \n",
    "# prepare data\n",
    "batch_size = 128\n",
    "trainloader, testloader = dat.load_mnist_in_memory(batch_size)\n",
    "x_batch , y_batch = next(trainloader)\n",
    "\n",
    "# initializing network\n",
    "model    = MLP(hidden_sizes=layer_dims)\n",
    "key      = jax.random.PRNGKey(0)\n",
    "theta    = model.init(key, x_batch)['params']\n",
    "apply_fn = model.apply\n",
    "\n",
    "# normalizing eta and weighting with learning rate\n",
    "num_params = jnp.size(jax.flatten_util.ravel_pytree(theta)[0])\n",
    "eta0       = simple_eta_norm(num_params,epsilon) * learning_rate\n",
    "\n",
    "# corresponding batch size to iterations per epoch / test\n",
    "batches      = trainloader.X.shape[0]//batch_size\n",
    "test_batches = testloader.X.shape[0]//batch_size\n",
    "iterations   = epochs * batches\n",
    "\n",
    "# for recording training data\n",
    "costs    = []\n",
    "accs     = []\n",
    "valpochs = []\n",
    "epoch    = 0\n",
    "epoch_costs      = []\n",
    "for i in range(iterations):\n",
    "\n",
    "    # setup for epoch\n",
    "    x_batch, y_batch = next(trainloader)    # next batch of data\n",
    "    eta              = eta0/(1+decay*epoch) # decaying learning rate\n",
    "    gradient         = init_grad(theta)     # all-zero gradient for later accumulation\n",
    "\n",
    "    # Step 1: Forward pass\n",
    "    cost0  = loss_fn(apply_fn, theta, x_batch, y_batch)\n",
    "    epoch_costs.append(cost0)\n",
    "    \n",
    "    # Step 2: Perturb\n",
    "    perturbations   = sample_perturbations(theta,epsilon,i)\n",
    "    theta_perturbed = apply_perturbations(theta,perturbations)\n",
    "\n",
    "    # Step 3: Perturbed forward pass\n",
    "    cost_perturbed   = loss_fn(apply_fn, theta_perturbed, x_batch, y_batch)\n",
    "\n",
    "    # Step 4: Collect gradient\n",
    "    delta_cost = (cost_perturbed - cost0)*-1\n",
    "    gradient   = collect_grad(perturbations, delta_cost, eta, gradient)\n",
    "\n",
    "    # Step 5: Make update\n",
    "    theta = optax.apply_updates(theta, gradient)\n",
    "\n",
    "    # validate (test) only with specified frequency according to validation mod\n",
    "    if i % batches == 0: epoch+=1\n",
    "    if i % batches == 0 and epoch % validation_mod == 0:\n",
    "        \n",
    "        # testing prediction accuracy over all batches in test set\n",
    "        batch_accs = [compute_accuracy(apply_fn, theta, *next(testloader)) for _ in range(test_batches)]\n",
    "\n",
    "        # recording data\n",
    "        accs.append(np.mean(batch_accs))\n",
    "        valpochs.append(epoch)\n",
    "        costs.append(np.mean(epoch_costs))\n",
    "        epoch_costs = []\n",
    "\n",
    "        # updating user\n",
    "        print(f\"Iter {i} :: Epoch {epoch}  ::  cost {costs[-1]:.6}  :: accuracy {accs[-1]:.3}     \", \n",
    "              end='\\r')\n",
    "\n",
    "# plot the results! (note much higher accuracy can be achieved, but this net is designed for fast runtime)\n",
    "plt.style.use('seaborn-v0_8-muted')\n",
    "plt.figure(figsize=(8,3))\n",
    "plt.plot(valpochs, accs, linewidth=3, label='Validaiton Accuracy')\n",
    "plt.plot(valpochs, (costs/np.max(costs))*np.max(accs), linewidth=3, label='Normalize Training Costs')\n",
    "plt.xlabel(\"Epochs\")\n",
    "plt.ylabel(\"Accs and Costs\")\n",
    "plt.title(\"Training a Neural Net with MGD on MNIST\")\n",
    "plt.legend()\n",
    "plt.show()"
   ]
  }
 ],
 "metadata": {
  "kernelspec": {
   "display_name": ".venv",
   "language": "python",
   "name": "python3"
  },
  "language_info": {
   "codemirror_mode": {
    "name": "ipython",
    "version": 3
   },
   "file_extension": ".py",
   "mimetype": "text/x-python",
   "name": "python",
   "nbconvert_exporter": "python",
   "pygments_lexer": "ipython3",
   "version": "3.12.11"
  }
 },
 "nbformat": 4,
 "nbformat_minor": 5
}
